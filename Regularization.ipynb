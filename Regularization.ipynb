{
  "nbformat": 4,
  "nbformat_minor": 0,
  "metadata": {
    "colab": {
      "name": "Regularization",
      "provenance": [],
      "collapsed_sections": []
    },
    "kernelspec": {
      "name": "python3",
      "display_name": "Python 3"
    }
  },
  "cells": [
    {
      "cell_type": "markdown",
      "metadata": {
        "id": "XapEHqIIPzTc"
      },
      "source": [
        "**L1 and L2 Regularization**"
      ]
    },
    {
      "cell_type": "markdown",
      "metadata": {
        "id": "dW8z5n94P4m5"
      },
      "source": [
        "What is **Regularization**?"
      ]
    },
    {
      "cell_type": "markdown",
      "metadata": {
        "id": "-ijjIRU3P7HS"
      },
      "source": [
        "Regularization is a proccess of adding additional information in order to prevent ovefitting."
      ]
    },
    {
      "cell_type": "markdown",
      "metadata": {
        "id": "gCgRE6jkQIsq"
      },
      "source": [
        "L1 Ridge Regression\n",
        "L2 Lasso Regression"
      ]
    },
    {
      "cell_type": "markdown",
      "metadata": {
        "id": "h3VtHx1-SPTc"
      },
      "source": [
        "Formula of Ridge\n",
        "\n",
        "```\n",
        "loss + (alpha)(sum of \n",
        "magnitude of independent variables)^2\n",
        "```\n",
        "\n"
      ]
    },
    {
      "cell_type": "markdown",
      "metadata": {
        "id": "LYNWtWPCSZaw"
      },
      "source": [
        "Formula of Lasso\n",
        "\n",
        "```\n",
        "loss + (alpha)(sum of \n",
        "magnitude of independent variables)\n",
        "```\n",
        "\n"
      ]
    },
    {
      "cell_type": "markdown",
      "metadata": {
        "id": "xAUNNBZ_Ssou"
      },
      "source": [
        "**Implemention Start's Here**"
      ]
    },
    {
      "cell_type": "code",
      "metadata": {
        "id": "6UgvtjatPwav",
        "outputId": "e30a41bb-e280-486a-dbea-173afa6a2a61",
        "colab": {
          "base_uri": "https://localhost:8080/",
          "height": 206
        }
      },
      "source": [
        "import pandas as pd\n",
        "\n",
        "names = ['crim','zn','indus','chas','nox','rm','age','dis','rad','tax','ptratio','black','lstat','medv']\n",
        "\n",
        "URL = \"https://archive.ics.uci.edu/ml/machine-learning-databases/housing/housing.data\"\n",
        "\n",
        "df = pd.read_csv(URL, delim_whitespace = True, names = names)\n",
        "df.head()"
      ],
      "execution_count": 11,
      "outputs": [
        {
          "output_type": "execute_result",
          "data": {
            "text/html": [
              "<div>\n",
              "<style scoped>\n",
              "    .dataframe tbody tr th:only-of-type {\n",
              "        vertical-align: middle;\n",
              "    }\n",
              "\n",
              "    .dataframe tbody tr th {\n",
              "        vertical-align: top;\n",
              "    }\n",
              "\n",
              "    .dataframe thead th {\n",
              "        text-align: right;\n",
              "    }\n",
              "</style>\n",
              "<table border=\"1\" class=\"dataframe\">\n",
              "  <thead>\n",
              "    <tr style=\"text-align: right;\">\n",
              "      <th></th>\n",
              "      <th>crim</th>\n",
              "      <th>zn</th>\n",
              "      <th>indus</th>\n",
              "      <th>chas</th>\n",
              "      <th>nox</th>\n",
              "      <th>rm</th>\n",
              "      <th>age</th>\n",
              "      <th>dis</th>\n",
              "      <th>rad</th>\n",
              "      <th>tax</th>\n",
              "      <th>ptratio</th>\n",
              "      <th>black</th>\n",
              "      <th>lstat</th>\n",
              "      <th>medv</th>\n",
              "    </tr>\n",
              "  </thead>\n",
              "  <tbody>\n",
              "    <tr>\n",
              "      <th>0</th>\n",
              "      <td>0.00632</td>\n",
              "      <td>18.0</td>\n",
              "      <td>2.31</td>\n",
              "      <td>0</td>\n",
              "      <td>0.538</td>\n",
              "      <td>6.575</td>\n",
              "      <td>65.2</td>\n",
              "      <td>4.0900</td>\n",
              "      <td>1</td>\n",
              "      <td>296.0</td>\n",
              "      <td>15.3</td>\n",
              "      <td>396.90</td>\n",
              "      <td>4.98</td>\n",
              "      <td>24.0</td>\n",
              "    </tr>\n",
              "    <tr>\n",
              "      <th>1</th>\n",
              "      <td>0.02731</td>\n",
              "      <td>0.0</td>\n",
              "      <td>7.07</td>\n",
              "      <td>0</td>\n",
              "      <td>0.469</td>\n",
              "      <td>6.421</td>\n",
              "      <td>78.9</td>\n",
              "      <td>4.9671</td>\n",
              "      <td>2</td>\n",
              "      <td>242.0</td>\n",
              "      <td>17.8</td>\n",
              "      <td>396.90</td>\n",
              "      <td>9.14</td>\n",
              "      <td>21.6</td>\n",
              "    </tr>\n",
              "    <tr>\n",
              "      <th>2</th>\n",
              "      <td>0.02729</td>\n",
              "      <td>0.0</td>\n",
              "      <td>7.07</td>\n",
              "      <td>0</td>\n",
              "      <td>0.469</td>\n",
              "      <td>7.185</td>\n",
              "      <td>61.1</td>\n",
              "      <td>4.9671</td>\n",
              "      <td>2</td>\n",
              "      <td>242.0</td>\n",
              "      <td>17.8</td>\n",
              "      <td>392.83</td>\n",
              "      <td>4.03</td>\n",
              "      <td>34.7</td>\n",
              "    </tr>\n",
              "    <tr>\n",
              "      <th>3</th>\n",
              "      <td>0.03237</td>\n",
              "      <td>0.0</td>\n",
              "      <td>2.18</td>\n",
              "      <td>0</td>\n",
              "      <td>0.458</td>\n",
              "      <td>6.998</td>\n",
              "      <td>45.8</td>\n",
              "      <td>6.0622</td>\n",
              "      <td>3</td>\n",
              "      <td>222.0</td>\n",
              "      <td>18.7</td>\n",
              "      <td>394.63</td>\n",
              "      <td>2.94</td>\n",
              "      <td>33.4</td>\n",
              "    </tr>\n",
              "    <tr>\n",
              "      <th>4</th>\n",
              "      <td>0.06905</td>\n",
              "      <td>0.0</td>\n",
              "      <td>2.18</td>\n",
              "      <td>0</td>\n",
              "      <td>0.458</td>\n",
              "      <td>7.147</td>\n",
              "      <td>54.2</td>\n",
              "      <td>6.0622</td>\n",
              "      <td>3</td>\n",
              "      <td>222.0</td>\n",
              "      <td>18.7</td>\n",
              "      <td>396.90</td>\n",
              "      <td>5.33</td>\n",
              "      <td>36.2</td>\n",
              "    </tr>\n",
              "  </tbody>\n",
              "</table>\n",
              "</div>"
            ],
            "text/plain": [
              "      crim    zn  indus  chas    nox  ...    tax  ptratio   black  lstat  medv\n",
              "0  0.00632  18.0   2.31     0  0.538  ...  296.0     15.3  396.90   4.98  24.0\n",
              "1  0.02731   0.0   7.07     0  0.469  ...  242.0     17.8  396.90   9.14  21.6\n",
              "2  0.02729   0.0   7.07     0  0.469  ...  242.0     17.8  392.83   4.03  34.7\n",
              "3  0.03237   0.0   2.18     0  0.458  ...  222.0     18.7  394.63   2.94  33.4\n",
              "4  0.06905   0.0   2.18     0  0.458  ...  222.0     18.7  396.90   5.33  36.2\n",
              "\n",
              "[5 rows x 14 columns]"
            ]
          },
          "metadata": {
            "tags": []
          },
          "execution_count": 11
        }
      ]
    },
    {
      "cell_type": "code",
      "metadata": {
        "id": "qn75APQMfgTi"
      },
      "source": [
        "from sklearn.model_selection import train_test_split\n",
        "\n",
        "X = df.iloc[:,:-1].values\n",
        "Y = df.iloc[:, -1].values\n",
        "\n",
        "X_train,X_test,y_train,y_test = train_test_split(X,Y,test_size=0.2,random_state=0)"
      ],
      "execution_count": 12,
      "outputs": []
    },
    {
      "cell_type": "code",
      "metadata": {
        "id": "ykHKR61MfnlI",
        "outputId": "22117cef-422e-4c38-ee7f-ebc6840b557f",
        "colab": {
          "base_uri": "https://localhost:8080/"
        }
      },
      "source": [
        "print(\"Shape of X is\",X.shape)\n",
        "print(\"Shape of Y is\",Y.shape)"
      ],
      "execution_count": 13,
      "outputs": [
        {
          "output_type": "stream",
          "text": [
            "Shape of X is (506, 13)\n",
            "Shape of Y is (506,)\n"
          ],
          "name": "stdout"
        }
      ]
    },
    {
      "cell_type": "markdown",
      "metadata": {
        "id": "CyS-u0_egBU7"
      },
      "source": [
        "**importing Libraries**"
      ]
    },
    {
      "cell_type": "code",
      "metadata": {
        "id": "Ttw2IPiEf4PG"
      },
      "source": [
        "from sklearn import linear_model\n",
        "import matplotlib.pyplot as plt"
      ],
      "execution_count": 14,
      "outputs": []
    },
    {
      "cell_type": "code",
      "metadata": {
        "id": "CLwlfdf0gQfW"
      },
      "source": [
        "names = df.drop('medv', axis = 1).columns"
      ],
      "execution_count": 15,
      "outputs": []
    },
    {
      "cell_type": "markdown",
      "metadata": {
        "id": "1SS_XftAgfWy"
      },
      "source": [
        "**Implementing Lasso Regression**"
      ]
    },
    {
      "cell_type": "code",
      "metadata": {
        "id": "uUv1riKAgUW7"
      },
      "source": [
        "# Alpha is a penality Value\n",
        "lasso = linear_model.Lasso(alpha = 2)\n"
      ],
      "execution_count": 53,
      "outputs": []
    },
    {
      "cell_type": "code",
      "metadata": {
        "id": "8LtvTlVvgzCQ"
      },
      "source": [
        "model = lasso.fit(X_train, y_train)"
      ],
      "execution_count": 54,
      "outputs": []
    },
    {
      "cell_type": "code",
      "metadata": {
        "id": "x5vCKxVag3dG",
        "outputId": "b4e286ac-9de2-4e57-d1f5-81980f8342f4",
        "colab": {
          "base_uri": "https://localhost:8080/"
        }
      },
      "source": [
        "model.coef_"
      ],
      "execution_count": 55,
      "outputs": [
        {
          "output_type": "execute_result",
          "data": {
            "text/plain": [
              "array([-0.00775491,  0.04020696, -0.        ,  0.        , -0.        ,\n",
              "        0.        ,  0.03937946, -0.03512867,  0.09764718, -0.01012518,\n",
              "       -0.70670251,  0.00528235, -0.77801894])"
            ]
          },
          "metadata": {
            "tags": []
          },
          "execution_count": 55
        }
      ]
    },
    {
      "cell_type": "code",
      "metadata": {
        "id": "nfdErdqdoXuB",
        "outputId": "829ed93e-d3d3-47d1-f6d8-d365b3006f86",
        "colab": {
          "base_uri": "https://localhost:8080/"
        }
      },
      "source": [
        "from sklearn.metrics import mean_squared_error\n",
        "\n",
        "mean_squared_error(y_test, model.predict(X_test))"
      ],
      "execution_count": 56,
      "outputs": [
        {
          "output_type": "execute_result",
          "data": {
            "text/plain": [
              "46.9098018806607"
            ]
          },
          "metadata": {
            "tags": []
          },
          "execution_count": 56
        }
      ]
    },
    {
      "cell_type": "code",
      "metadata": {
        "id": "w7BaQN6Bh1pD",
        "outputId": "48c61d6c-9c71-4807-9b56-c1978ebbc415",
        "colab": {
          "base_uri": "https://localhost:8080/",
          "height": 304
        }
      },
      "source": [
        "plt.plot(range(len(names)), model.coef_)\n",
        "plt.xticks(range(len(names)), names, rotation = 65)\n",
        "plt.xlabel(\"Co-efficients\")\n",
        "plt.ylabel(\"Names\")\n",
        "plt.show()"
      ],
      "execution_count": 20,
      "outputs": [
        {
          "output_type": "display_data",
          "data": {
            "image/png": "[encoded data removed]",
            "text/plain": [
              "<Figure size 432x288 with 1 Axes>"
            ]
          },
          "metadata": {
            "tags": [],
            "needs_background": "light"
          }
        }
      ]
    },
    {
      "cell_type": "code",
      "metadata": {
        "id": "zIU1hQKxigKd"
      },
      "source": [
        "# Those variables whose values reduces below zero are affected due to lasso regression alpha value\n",
        "# Below zero means the corresponding varables are removed"
      ],
      "execution_count": 22,
      "outputs": []
    },
    {
      "cell_type": "markdown",
      "metadata": {
        "id": "47KK9DGFi_8t"
      },
      "source": [
        "**Ridge Regression**"
      ]
    },
    {
      "cell_type": "code",
      "metadata": {
        "id": "Yrx272Tuisrb"
      },
      "source": [
        "ridge = linear_model.Ridge(alpha = 2)"
      ],
      "execution_count": 23,
      "outputs": []
    },
    {
      "cell_type": "code",
      "metadata": {
        "id": "Dm-O5GgsjHCP"
      },
      "source": [
        "model = ridge.fit(X_train, y_train)"
      ],
      "execution_count": 24,
      "outputs": []
    },
    {
      "cell_type": "code",
      "metadata": {
        "id": "IUO-oGfsjKqB",
        "outputId": "6ee8b590-791f-40de-cf32-01bc070d6b07",
        "colab": {
          "base_uri": "https://localhost:8080/"
        }
      },
      "source": [
        "model.coef_"
      ],
      "execution_count": 25,
      "outputs": [
        {
          "output_type": "execute_result",
          "data": {
            "text/plain": [
              "array([-0.11588483,  0.04657432, -0.03427504,  2.20558835, -5.8289038 ,\n",
              "        3.74962755, -0.01285868, -1.24237268,  0.21501334, -0.01176243,\n",
              "       -0.94295864,  0.00868351, -0.50265982])"
            ]
          },
          "metadata": {
            "tags": []
          },
          "execution_count": 25
        }
      ]
    },
    {
      "cell_type": "code",
      "metadata": {
        "id": "Cm08hyK9oKRv",
        "outputId": "d7093522-a332-4469-cb40-6cd88b7598ae",
        "colab": {
          "base_uri": "https://localhost:8080/"
        }
      },
      "source": [
        "from sklearn.metrics import mean_squared_error\n",
        "\n",
        "mean_squared_error(y_test, model.predict(X_test))"
      ],
      "execution_count": 52,
      "outputs": [
        {
          "output_type": "execute_result",
          "data": {
            "text/plain": [
              "34.644438003541424"
            ]
          },
          "metadata": {
            "tags": []
          },
          "execution_count": 52
        }
      ]
    },
    {
      "cell_type": "code",
      "metadata": {
        "id": "wTvEzdnajMGx",
        "outputId": "09163b70-826f-4de4-ffd0-1e82c2556ed9",
        "colab": {
          "base_uri": "https://localhost:8080/",
          "height": 304
        }
      },
      "source": [
        "plt.plot(range(len(names)), model.coef_)\n",
        "plt.xticks(range(len(names)), names, rotation = 65)\n",
        "plt.xlabel(\"Co-efficients\")\n",
        "plt.ylabel(\"Names\")\n",
        "plt.show()"
      ],
      "execution_count": 26,
      "outputs": [
        {
          "output_type": "display_data",
          "data": {
            "image/png": "[encoded data removed]",
            "text/plain": [
              "<Figure size 432x288 with 1 Axes>"
            ]
          },
          "metadata": {
            "tags": [],
            "needs_background": "light"
          }
        }
      ]
    },
    {
      "cell_type": "markdown",
      "metadata": {
        "id": "wQZSlmh0jjEP"
      },
      "source": [
        "**Now if StandardScaler is Used**"
      ]
    },
    {
      "cell_type": "code",
      "metadata": {
        "id": "amBk3N_tjZOC"
      },
      "source": [
        "from sklearn.preprocessing import StandardScaler\n",
        "\n",
        "sc = StandardScaler()\n",
        "\n",
        "std_x = sc.fit_transform(X_train)"
      ],
      "execution_count": 27,
      "outputs": []
    },
    {
      "cell_type": "markdown",
      "metadata": {
        "id": "z5n3hhbljvqm"
      },
      "source": [
        "**Now if i implement's Lasso and Ridge**"
      ]
    },
    {
      "cell_type": "code",
      "metadata": {
        "id": "8p5o0aVXju82",
        "outputId": "eac6fd1e-4993-4135-d730-5a9125e5458a",
        "colab": {
          "base_uri": "https://localhost:8080/"
        }
      },
      "source": [
        "lasso = linear_model.Lasso(alpha = 0.2)\n",
        "ridge = linear_model.Ridge(alpha = 0.2)\n",
        "\n",
        "model_lasso = lasso.fit(std_x, y_train)\n",
        "model_ridge = ridge.fit(std_x, y_train)\n",
        "\n",
        "coef_lasso = model_lasso.coef_\n",
        "coef_ridge = model_ridge.coef_\n",
        "print(\"The Intecept of Lasso is\",model_lasso.intercept_)\n",
        "print(\"The Intecept of Ridge is\",model_ridge.intercept_)\n",
        "print(\"The Coef of Lasso is\",coef_lasso)\n",
        "print(\"The Coef of Ridge is\",coef_ridge)"
      ],
      "execution_count": 57,
      "outputs": [
        {
          "output_type": "stream",
          "text": [
            "The Intecept of Lasso is 22.611881188118836\n",
            "The Intecept of Ridge is 22.611881188118836\n",
            "The Coef of Lasso is [-0.47463233  0.381009   -0.10796867  0.54564167 -0.94424971  2.82477192\n",
            " -0.         -1.45186826  0.         -0.15733419 -2.12679389  0.53740595\n",
            " -3.60225157]\n",
            "The Coef of Ridge is [-0.96906797  1.05381915  0.03280944  0.5953749  -1.84802333  2.57538903\n",
            " -0.08916904 -2.87433817  2.09659994 -1.86101986 -2.29082237  0.7182033\n",
            " -3.58914471]\n"
          ],
          "name": "stdout"
        }
      ]
    },
    {
      "cell_type": "code",
      "metadata": {
        "id": "Gkx0Ih6Zkb3f",
        "outputId": "eb1760a6-41f5-4e56-d483-209237c37f9c",
        "colab": {
          "base_uri": "https://localhost:8080/",
          "height": 320
        }
      },
      "source": [
        "plt.plot(range(len(names)), coef_lasso)\n",
        "plt.xticks(range(len(names)), names, rotation = 65)\n",
        "plt.xlabel(\"Co-efficients\")\n",
        "plt.ylabel(\"Names\")\n",
        "plt.title(\"Lasso Regression\")\n",
        "plt.show()"
      ],
      "execution_count": 58,
      "outputs": [
        {
          "output_type": "display_data",
          "data": {
            "image/png": "[encoded data removed]",
            "text/plain": [
              "<Figure size 432x288 with 1 Axes>"
            ]
          },
          "metadata": {
            "tags": [],
            "needs_background": "light"
          }
        }
      ]
    },
    {
      "cell_type": "code",
      "metadata": {
        "id": "evu8IxJxlGDY",
        "outputId": "d2bbe7b2-af95-4ecf-d483-8bb98d97c024",
        "colab": {
          "base_uri": "https://localhost:8080/",
          "height": 320
        }
      },
      "source": [
        "plt.plot(range(len(names)), coef_ridge)\n",
        "plt.xticks(range(len(names)), names, rotation = 65)\n",
        "plt.xlabel(\"Co-efficients\")\n",
        "plt.ylabel(\"Names\")\n",
        "plt.title(\"Ridge Regression\")\n",
        "plt.show()"
      ],
      "execution_count": 59,
      "outputs": [
        {
          "output_type": "display_data",
          "data": {
            "image/png": "[encoded data removed]",
            "text/plain": [
              "<Figure size 432x288 with 1 Axes>"
            ]
          },
          "metadata": {
            "tags": [],
            "needs_background": "light"
          }
        }
      ]
    },
    {
      "cell_type": "code",
      "metadata": {
        "id": "OYnKtIaQlKg6"
      },
      "source": [
        "# After Doing Experiments I think Ridge And StandScaler is Good Combination for Regression."
      ],
      "execution_count": 60,
      "outputs": []
    },
    {
      "cell_type": "code",
      "metadata": {
        "id": "XQ3YpIQrlzzb"
      },
      "source": [
        "from sklearn.preprocessing import StandardScaler\n",
        "from sklearn.metrics import mean_squared_error\n",
        "\n",
        "\n",
        "sc = StandardScaler()\n",
        "\n",
        "std_x_test = sc.fit_transform(X_test)\n",
        "l_pred = model_lasso.predict(std_x_test)\n",
        "r_pred = model_ridge.predict(std_x_test)"
      ],
      "execution_count": 61,
      "outputs": []
    },
    {
      "cell_type": "code",
      "metadata": {
        "id": "GW_nznkUl-fI",
        "outputId": "bdfd71eb-4dbd-4bff-ac61-ca0a9833a03c",
        "colab": {
          "base_uri": "https://localhost:8080/"
        }
      },
      "source": [
        "mean_squared_error(y_test, l_pred)"
      ],
      "execution_count": 62,
      "outputs": [
        {
          "output_type": "execute_result",
          "data": {
            "text/plain": [
              "38.141435620052256"
            ]
          },
          "metadata": {
            "tags": []
          },
          "execution_count": 62
        }
      ]
    },
    {
      "cell_type": "code",
      "metadata": {
        "id": "6AEaXgCkmdDk",
        "outputId": "67eff1ee-a681-46cc-9a81-4c26e9f54172",
        "colab": {
          "base_uri": "https://localhost:8080/"
        }
      },
      "source": [
        "mean_squared_error(y_test, r_pred)"
      ],
      "execution_count": 63,
      "outputs": [
        {
          "output_type": "execute_result",
          "data": {
            "text/plain": [
              "35.13099067426668"
            ]
          },
          "metadata": {
            "tags": []
          },
          "execution_count": 63
        }
      ]
    },
    {
      "cell_type": "markdown",
      "metadata": {
        "id": "zkhcG7B_o5DH"
      },
      "source": [
        "**What does the Mean Squared Error Tell You?**\n",
        "\n",
        "The smaller the means squared error, the closer you are to finding the line of best fit. Depending on your data, it may be impossible to get a very small value for the mean squared error. For example, the above data is scattered wildly around the regression line, so 6.08 is as good as it gets (and is in fact, the line of best fit). Note that I used an online calculator to get the regression line; where the mean squared error really comes in handy is if you were finding an equation for the regression line by hand: you could try several equations, and the one that gave you the smallest mean squared error would be the line of best fit."
      ]
    },
    {
      "cell_type": "code",
      "metadata": {
        "id": "5aV9daP_meOD"
      },
      "source": [
        ""
      ],
      "execution_count": 63,
      "outputs": []
    }
  ]
}